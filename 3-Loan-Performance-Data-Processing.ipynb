{
 "cells": [
  {
   "cell_type": "markdown",
   "metadata": {},
   "source": [
    "# Goal\n",
    "We want only the latest status for every issued loan to predict if it is a risk or not. We want to create a new dataset that has only the important columns and the latest records.\n",
    "\n",
    "This will drastically reduce our dataset and hopefully we will be able to handle it better."
   ]
  },
  {
   "cell_type": "code",
   "execution_count": 1,
   "metadata": {},
   "outputs": [],
   "source": [
    "# loading important libraries\n",
    "\n",
    "import findspark\n",
    "findspark.init()\n",
    "import pyspark as ps\n",
    "import warnings\n",
    "from pyspark.sql import SQLContext"
   ]
  },
  {
   "cell_type": "code",
   "execution_count": null,
   "metadata": {},
   "outputs": [],
   "source": [
    "try:\n",
    "    sc = ps.SparkContext('local[*]')\n",
    "    sqlContext = SQLContext(sc)\n",
    "    print(\"Just created a SparkContext\")\n",
    "except ValueError:\n",
    "    warnings.warn(\"SparkContext already exists in this scope\")"
   ]
  },
  {
   "cell_type": "code",
   "execution_count": 2,
   "metadata": {},
   "outputs": [],
   "source": [
    "perfsub=spark.read.csv('cmpnydata/perfSubset.csv',header='true',inferSchema='true')"
   ]
  },
  {
   "cell_type": "code",
   "execution_count": null,
   "metadata": {},
   "outputs": [],
   "source": [
    "perfsub.createOrReplaceTempView('psub')"
   ]
  },
  {
   "cell_type": "code",
   "execution_count": null,
   "metadata": {},
   "outputs": [],
   "source": [
    "x=spark.sql(\"SELECT loanID,currIntRate,zeroBalCode,zeroBalEffDate,lastPaidInstallmentDate,currActualUPB,loanAge,remainingMonthsToLegalMaturity,adjustedMonthsToMaturity,maturityDate,msa,currLoanDelinquencyStatus,modFlag,lastPaidInstallmentDate,foreclosureDate,dispositionDate,foreclosureCosts,otherForeclosureProceeds,nonInterestBearingUPB,foreclosurePrincipalWriteOffAmt,ROW_NUMBER() OVER(PARTITION BY loanID ORDER BY remainingMonthsToLegalMaturity) AS ranking  FROM psub GROUP BY loanID,currIntRate,zeroBalCode,zeroBalEffDate,lastPaidInstallmentDate,currActualUPB,loanAge,remainingMonthsToLegalMaturity,adjustedMonthsToMaturity,maturityDate,msa,currLoanDelinquencyStatus,modFlag,lastPaidInstallmentDate,foreclosureDate,dispositionDate,foreclosureCosts,otherForeclosureProceeds,nonInterestBearingUPB,foreclosurePrincipalWriteOffAmt\")\n",
    "\n",
    "x.createOrReplaceTempView('df')\n",
    "\n",
    "df1=sqlContext.sql(\"SELECT loanID,currIntRate,zeroBalCode,zeroBalEffDate,lastPaidInstallmentDate,currActualUPB,loanAge,remainingMonthsToLegalMaturity,adjustedMonthsToMaturity,maturityDate,msa,currLoanDelinquencyStatus,modFlag,foreclosureDate,dispositionDate,foreclosureCosts,otherForeclosureProceeds,nonInterestBearingUPB,foreclosurePrincipalWriteOffAmt FROM df where ranking=1\")\n",
    "\n",
    "df1.coalesce(1).write.save('/mnt/d/Hack_UTD/cmpnydata/loanperf1.csv',format='csv')"
   ]
  },
  {
   "cell_type": "markdown",
   "metadata": {},
   "source": [
    "# End!\n",
    "\n",
    "We have successfully extracted the **LATEST records for every LoanID** since that is the only record we're interested in and we have also taken a subset of available columns based on our study of Glossary."
   ]
  }
 ],
 "metadata": {
  "kernelspec": {
   "display_name": "Python 3",
   "language": "python",
   "name": "python3"
  },
  "language_info": {
   "codemirror_mode": {
    "name": "ipython",
    "version": 3
   },
   "file_extension": ".py",
   "mimetype": "text/x-python",
   "name": "python",
   "nbconvert_exporter": "python",
   "pygments_lexer": "ipython3",
   "version": "3.6.5"
  }
 },
 "nbformat": 4,
 "nbformat_minor": 2
}
