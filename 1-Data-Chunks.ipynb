{
 "cells": [
  {
   "cell_type": "markdown",
   "metadata": {},
   "source": [
    "# Goal\n",
    "\n",
    "Since the loan performance data is HUGE (at least for our laptops), we're gonna load it using Spark and save it into **5 separate chunks**."
   ]
  },
  {
   "cell_type": "code",
   "execution_count": 1,
   "metadata": {},
   "outputs": [],
   "source": [
    "# loading important libraries\n",
    "\n",
    "import findspark\n",
    "findspark.init()\n",
    "import pyspark as ps\n",
    "import warnings\n",
    "from pyspark.sql import SQLContext"
   ]
  },
  {
   "cell_type": "code",
   "execution_count": 2,
   "metadata": {},
   "outputs": [
    {
     "name": "stdout",
     "output_type": "stream",
     "text": [
      "Just created a SparkContext\n"
     ]
    }
   ],
   "source": [
    "try:\n",
    "    sc = ps.SparkContext('local[*]')\n",
    "    sqlContext = SQLContext(sc)\n",
    "    print(\"Just created a SparkContext\")\n",
    "except ValueError:\n",
    "    warnings.warn(\"SparkContext already exists in this scope\")"
   ]
  },
  {
   "cell_type": "code",
   "execution_count": 3,
   "metadata": {},
   "outputs": [
    {
     "data": {
      "text/plain": [
       "pyspark.sql.dataframe.DataFrame"
      ]
     },
     "execution_count": 3,
     "metadata": {},
     "output_type": "execute_result"
    }
   ],
   "source": [
    "# Reading Data\n",
    "\n",
    "perfSub = sqlContext.read.format('com.databricks.spark.csv').options(header='true', inferschema='true')\\\n",
    ".load('cmpnydata/perfSubset/perfSubset.csv')\n",
    "type(perfSub)"
   ]
  },
  {
   "cell_type": "code",
   "execution_count": 8,
   "metadata": {},
   "outputs": [
    {
     "name": "stdout",
     "output_type": "stream",
     "text": [
      "+------------+----------------------+------------+-----------+-------------+-------+------------------------------+------------------------+------------+---+-------------------------+-------+-----------+--------------+-----------------------+---------------+---------------+----------------+----------------------------------+------------------+-------------------------+----------------------------+---------------+-------------------------+---------------------------+------------------------+---------------------+-----------------------+-------------------------------+-------------------------------+--------------------------+\n",
      "|      loanID|monthlyReportingPeriod|servicerName|currIntRate|currActualUPB|loanAge|remainingMonthsToLegalMaturity|adjustedMonthsToMaturity|maturityDate|msa|currLoanDelinquencyStatus|modFlag|zeroBalCode|zeroBalEffDate|lastPaidInstallmentDate|foreclosureDate|dispositionDate|foreclosureCosts|propertyPreservationAndRepairCosts|assetRecoveryCosts|miscHoldingExpnAndCredits|assocTaxesForHoldingProperty|netSaleProceeds|creditEnhancementProceeds|repurchaseMakeWholeProceeds|otherForeclosureProceeds|nonInterestBearingUPB|principalForgivenessAmt|repurchaseMakeWholeProceedsFlag|foreclosurePrincipalWriteOffAmt|ServicingActivityIndicator|\n",
      "+------------+----------------------+------------+-----------+-------------+-------+------------------------------+------------------------+------------+---+-------------------------+-------+-----------+--------------+-----------------------+---------------+---------------+----------------+----------------------------------+------------------+-------------------------+----------------------------+---------------+-------------------------+---------------------------+------------------------+---------------------+-----------------------+-------------------------------+-------------------------------+--------------------------+\n",
      "|100007365142|            01/01/2000|        null|        8.0|         null|      0|                           360|                     359|     01/2030|  0|                        0|      N|       null|          null|                   null|           null|           null|            null|                              null|              null|                     null|                        null|           null|                     null|                       null|                    null|                 null|                   null|                           null|                           null|                      null|\n",
      "+------------+----------------------+------------+-----------+-------------+-------+------------------------------+------------------------+------------+---+-------------------------+-------+-----------+--------------+-----------------------+---------------+---------------+----------------+----------------------------------+------------------+-------------------------+----------------------------+---------------+-------------------------+---------------------------+------------------------+---------------------+-----------------------+-------------------------------+-------------------------------+--------------------------+\n",
      "only showing top 1 row\n",
      "\n"
     ]
    }
   ],
   "source": [
    "perfSub.show(1)"
   ]
  },
  {
   "cell_type": "code",
   "execution_count": null,
   "metadata": {
    "scrolled": true
   },
   "outputs": [],
   "source": [
    "perfSub.coalesce(5).write.csv(\"cmpnydata/perfSubset/data\")"
   ]
  },
  {
   "cell_type": "markdown",
   "metadata": {},
   "source": [
    "# End\n",
    "\n",
    "We successfully partitioned the data into 5 separate chunks which will make it easier for us to work with this data."
   ]
  }
 ],
 "metadata": {
  "kernelspec": {
   "display_name": "Python 3",
   "language": "python",
   "name": "python3"
  },
  "language_info": {
   "codemirror_mode": {
    "name": "ipython",
    "version": 3
   },
   "file_extension": ".py",
   "mimetype": "text/x-python",
   "name": "python",
   "nbconvert_exporter": "python",
   "pygments_lexer": "ipython3",
   "version": "3.6.5"
  }
 },
 "nbformat": 4,
 "nbformat_minor": 2
}
